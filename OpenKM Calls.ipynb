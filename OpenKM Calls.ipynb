{
 "cells": [
  {
   "cell_type": "code",
   "execution_count": null,
   "id": "6c4e1247",
   "metadata": {},
   "outputs": [],
   "source": [
    "import requests\n",
    "from requests.structures import CaseInsensitiveDict\n",
    "\n",
    "url = \"http://ec2-54-152-252-77.compute-1.amazonaws.com:8080/OpenKM/services/rest/folder/create\"\n",
    "\n",
    "headers = CaseInsensitiveDict()\n",
    "headers[\"accept\"] = \"application/xml\"\n",
    "headers[\"Content-Type\"] = \"application/xml\"\n",
    "headers[\"Authorization\"] = \"Basic b2ttQWRtaW46YWRtaW4=\"\n",
    "\n",
    "def CreateFolder(folderPath):\n",
    "    \n",
    "    data = \"\"\"<?xml version=\"1.0\" encoding=\"UTF-8\"?>\n",
    "    <folder>\n",
    "        <created>2022-09-03T13:11:09.493Z</created>\n",
    "        <path>/okm:root/{folder}</path>\n",
    "        <author>Lakshmi Segu</author>\n",
    "        <permissions>0</permissions>\n",
    "        <subscribed>true</subscribed>\n",
    "            <note>\n",
    "                <date>2022-09-03T14:01:20.838Z</date>\n",
    "                <author>Lakshmi Segu</author>\n",
    "                <text>DOCID: 4294967297</text>\n",
    "                <path>/okm:root/{folder}</path>\n",
    "            </note>\n",
    "        <hasChildren>true</hasChildren>\n",
    "    </folder>\"\"\".format(folder=folderPath)\n",
    "\n",
    "\n",
    "    resp = requests.post(url, headers=headers, data=data)\n",
    "\n",
    "    return resp.status_code\n",
    "\n",
    "\n",
    "def createFolders(iterativePath):\n",
    "    path = '/okm:root/' + iterativePath\n",
    "    url = \"http://ec2-54-152-252-77.compute-1.amazonaws.com:8080/OpenKM/services/rest/folder/createMissingFolders?fldPath=\" + path\n",
    "\n",
    "    headers = CaseInsensitiveDict()\n",
    "    headers[\"accept\"] = \"application/xml\"\n",
    "    headers[\"Authorization\"] = \"Basic b2ttQWRtaW46YWRtaW4=\"\n",
    "    resp = requests.put(url, headers=headers)\n",
    "\n",
    "    return resp.status_code\n"
   ]
  },
  {
   "cell_type": "code",
   "execution_count": null,
   "id": "df0d130a",
   "metadata": {
    "scrolled": false
   },
   "outputs": [],
   "source": [
    "import pandas as pd\n",
    "df = pd.read_csv(r'C:\\Users\\segul\\Folders.csv')\n",
    "for index, row in df.iterrows():\n",
    "    print(createFolders(row['LOGICALPATH']))\n",
    "    if createFolders(row['LOGICALPATH']) == 204:\n",
    "        print('Success')\n",
    "    else:\n",
    "        print(row['LOGICALPATH'])"
   ]
  },
  {
   "cell_type": "code",
   "execution_count": 63,
   "id": "1b3d9008",
   "metadata": {},
   "outputs": [
    {
     "name": "stdout",
     "output_type": "stream",
     "text": [
      "http://ec2-54-152-252-77.compute-1.amazonaws.com:8080/OpenKM/services/rest/folder/createMissingFolders?fldPath=/okm:root/Nitin/Lakshmi/Naresh/Panthulu/Paani/\n"
     ]
    },
    {
     "data": {
      "text/plain": [
       "204"
      ]
     },
     "execution_count": 63,
     "metadata": {},
     "output_type": "execute_result"
    }
   ],
   "source": [
    "createFolders('Nitin/Lakshmi/Naresh/Panthulu/Paani/')"
   ]
  }
 ],
 "metadata": {
  "kernelspec": {
   "display_name": "Python 3 (ipykernel)",
   "language": "python",
   "name": "python3"
  },
  "language_info": {
   "codemirror_mode": {
    "name": "ipython",
    "version": 3
   },
   "file_extension": ".py",
   "mimetype": "text/x-python",
   "name": "python",
   "nbconvert_exporter": "python",
   "pygments_lexer": "ipython3",
   "version": "3.7.13"
  }
 },
 "nbformat": 4,
 "nbformat_minor": 5
}
